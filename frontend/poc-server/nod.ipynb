{
 "cells": [
  {
   "cell_type": "code",
   "execution_count": 1,
   "id": "a790c31e",
   "metadata": {},
   "outputs": [],
   "source": [
    "from mcap.reader import SeekingReader, make_reader\n",
    "import io\n",
    "from rclpy.serialization import deserialize_message\n",
    "from sensor_msgs.msg import CompressedImage, CameraInfo\n",
    "from PIL import Image\n",
    "import numpy\n"
   ]
  },
  {
   "cell_type": "code",
   "execution_count": 2,
   "id": "e99987eb",
   "metadata": {},
   "outputs": [],
   "source": [
    "path = \"sensor_data.mcap\""
   ]
  },
  {
   "cell_type": "code",
   "execution_count": 3,
   "id": "14179896",
   "metadata": {},
   "outputs": [],
   "source": [
    "reader = SeekingReader(open(path, \"rb\"))"
   ]
  },
  {
   "cell_type": "code",
   "execution_count": 15,
   "id": "69279b98",
   "metadata": {},
   "outputs": [
    {
     "data": {
      "text/plain": [
       "{1: Schema(id=1, data=b'# This message defines meta information for a camera. It should be in a\\n# camera namespace on topic \"camera_info\" and accompanied by up to five\\n# image topics named:\\n#\\n#   image_raw - raw data from the camera driver, possibly Bayer encoded\\n#   image            - monochrome, distorted\\n#   image_color      - color, distorted\\n#   image_rect       - monochrome, rectified\\n#   image_rect_color - color, rectified\\n#\\n# The image_pipeline contains packages (image_proc, stereo_image_proc)\\n# for producing the four processed image topics from image_raw and\\n# camera_info. The meaning of the camera parameters are described in\\n# detail at http://www.ros.org/wiki/image_pipeline/CameraInfo.\\n#\\n# The image_geometry package provides a user-friendly interface to\\n# common operations using this meta information. If you want to, e.g.,\\n# project a 3d point into image coordinates, we strongly recommend\\n# using image_geometry.\\n#\\n# If the camera is uncalibrated, the matrices D, K, R, P should be left\\n# zeroed out. In particular, clients may assume that K[0] == 0.0\\n# indicates an uncalibrated camera.\\n\\n#######################################################################\\n#                     Image acquisition info                          #\\n#######################################################################\\n\\n# Time of image acquisition, camera coordinate frame ID\\nstd_msgs/Header header # Header timestamp should be acquisition time of image\\n                             # Header frame_id should be optical frame of camera\\n                             # origin of frame should be optical center of camera\\n                             # +x should point to the right in the image\\n                             # +y should point down in the image\\n                             # +z should point into the plane of the image\\n\\n\\n#######################################################################\\n#                      Calibration Parameters                         #\\n#######################################################################\\n# These are fixed during camera calibration. Their values will be the #\\n# same in all messages until the camera is recalibrated. Note that    #\\n# self-calibrating systems may \"recalibrate\" frequently.              #\\n#                                                                     #\\n# The internal parameters can be used to warp a raw (distorted) image #\\n# to:                                                                 #\\n#   1. An undistorted image (requires D and K)                        #\\n#   2. A rectified image (requires D, K, R)                           #\\n# The projection matrix P projects 3D points into the rectified image.#\\n#######################################################################\\n\\n# The image dimensions with which the camera was calibrated.\\n# Normally this will be the full camera resolution in pixels.\\nuint32 height\\nuint32 width\\n\\n# The distortion model used. Supported models are listed in\\n# sensor_msgs/distortion_models.hpp. For most cameras, \"plumb_bob\" - a\\n# simple model of radial and tangential distortion - is sufficent.\\nstring distortion_model\\n\\n# The distortion parameters, size depending on the distortion model.\\n# For \"plumb_bob\", the 5 parameters are: (k1, k2, t1, t2, k3).\\nfloat64[] d\\n\\n# Intrinsic camera matrix for the raw (distorted) images.\\n#     [fx  0 cx]\\n# K = [ 0 fy cy]\\n#     [ 0  0  1]\\n# Projects 3D points in the camera coordinate frame to 2D pixel\\n# coordinates using the focal lengths (fx, fy) and principal point\\n# (cx, cy).\\nfloat64[9]  k # 3x3 row-major matrix\\n\\n# Rectification matrix (stereo cameras only)\\n# A rotation matrix aligning the camera coordinate system to the ideal\\n# stereo image plane so that epipolar lines in both stereo images are\\n# parallel.\\nfloat64[9]  r # 3x3 row-major matrix\\n\\n# Projection/camera matrix\\n#     [fx\\'  0  cx\\' Tx]\\n# P = [ 0  fy\\' cy\\' Ty]\\n#     [ 0   0   1   0]\\n# By convention, this matrix specifies the intrinsic (camera) matrix\\n#  of the processed (rectified) image. That is, the left 3x3 portion\\n#  is the normal camera intrinsic matrix for the rectified image.\\n# It projects 3D points in the camera coordinate frame to 2D pixel\\n#  coordinates using the focal lengths (fx\\', fy\\') and principal point\\n#  (cx\\', cy\\') - these may differ from the values in K.\\n# For monocular cameras, Tx = Ty = 0. Normally, monocular cameras will\\n#  also have R = the identity and P[1:3,1:3] = K.\\n# For a stereo pair, the fourth column [Tx Ty 0]\\' is related to the\\n#  position of the optical center of the second camera in the first\\n#  camera\\'s frame. We assume Tz = 0 so both cameras are in the same\\n#  stereo image plane. The first camera always has Tx = Ty = 0. For\\n#  the right (second) camera of a horizontal stereo pair, Ty = 0 and\\n#  Tx = -fx\\' * B, where B is the baseline between the cameras.\\n# Given a 3D point [X Y Z]\\', the projection (x, y) of the point onto\\n#  the rectified image is given by:\\n#  [u v w]\\' = P * [X Y Z 1]\\'\\n#         x = u / w\\n#         y = v / w\\n#  This holds for both images of a stereo pair.\\nfloat64[12] p # 3x4 row-major matrix\\n\\n\\n#######################################################################\\n#                      Operational Parameters                         #\\n#######################################################################\\n# These define the image region actually captured by the camera       #\\n# driver. Although they affect the geometry of the output image, they #\\n# may be changed freely without recalibrating the camera.             #\\n#######################################################################\\n\\n# Binning refers here to any camera setting which combines rectangular\\n#  neighborhoods of pixels into larger \"super-pixels.\" It reduces the\\n#  resolution of the output image to\\n#  (width / binning_x) x (height / binning_y).\\n# The default values binning_x = binning_y = 0 is considered the same\\n#  as binning_x = binning_y = 1 (no subsampling).\\nuint32 binning_x\\nuint32 binning_y\\n\\n# Region of interest (subwindow of full camera resolution), given in\\n#  full resolution (unbinned) image coordinates. A particular ROI\\n#  always denotes the same window of pixels on the camera sensor,\\n#  regardless of binning settings.\\n# The default setting of roi (all values 0) is considered the same as\\n#  full resolution (roi.width = width, roi.height = height).\\nRegionOfInterest roi\\n\\n================================================================================\\nMSG: sensor_msgs/RegionOfInterest\\n# This message is used to specify a region of interest within an image.\\n#\\n# When used to specify the ROI setting of the camera when the image was\\n# taken, the height and width fields should either match the height and\\n# width fields for the associated image; or height = width = 0\\n# indicates that the full resolution image was captured.\\n\\nuint32 x_offset  # Leftmost pixel of the ROI\\n                 # (0 if the ROI includes the left edge of the image)\\nuint32 y_offset  # Topmost pixel of the ROI\\n                 # (0 if the ROI includes the top edge of the image)\\nuint32 height    # Height of ROI\\nuint32 width     # Width of ROI\\n\\n# True if a distinct rectified ROI should be calculated from the \"raw\"\\n# ROI in this message. Typically this should be False if the full image\\n# is captured (ROI not used), and True if a subwindow is captured (ROI\\n# used).\\nbool do_rectify\\n\\n================================================================================\\nMSG: std_msgs/Header\\n# Standard metadata for higher-level stamped data types.\\n# This is generally used to communicate timestamped data\\n# in a particular coordinate frame.\\n\\n# Two-integer timestamp that is expressed as seconds and nanoseconds.\\nbuiltin_interfaces/Time stamp\\n\\n# Transform frame with which this data is associated.\\nstring frame_id\\n\\n================================================================================\\nMSG: builtin_interfaces/Time\\n# This message communicates ROS Time defined here:\\n# https://design.ros2.org/articles/clock_and_time.html\\n\\n# The seconds component, valid over all int32 values.\\nint32 sec\\n\\n# The nanoseconds component, valid in the range [0, 1e9), to be added to the seconds component.\\n# e.g.\\n# The time -1.7 seconds is represented as {sec: -2, nanosec: 3e8}\\n# The time 1.7 seconds is represented as {sec: 1, nanosec: 7e8}\\nuint32 nanosec\\n', encoding='ros2msg', name='sensor_msgs/msg/CameraInfo'),\n",
       " 2: Schema(id=2, data=b'# This message contains a compressed image.\\n\\nstd_msgs/Header header # Header timestamp should be acquisition time of image\\n                             # Header frame_id should be optical frame of camera\\n                             # origin of frame should be optical center of cameara\\n                             # +x should point to the right in the image\\n                             # +y should point down in the image\\n                             # +z should point into to plane of the image\\n\\nstring format                # Specifies the format of the data\\n                             #   Acceptable values:\\n                             #     jpeg, png, tiff\\n\\nuint8[] data                 # Compressed image buffer\\n\\n================================================================================\\nMSG: std_msgs/Header\\n# Standard metadata for higher-level stamped data types.\\n# This is generally used to communicate timestamped data\\n# in a particular coordinate frame.\\n\\n# Two-integer timestamp that is expressed as seconds and nanoseconds.\\nbuiltin_interfaces/Time stamp\\n\\n# Transform frame with which this data is associated.\\nstring frame_id\\n\\n================================================================================\\nMSG: builtin_interfaces/Time\\n# This message communicates ROS Time defined here:\\n# https://design.ros2.org/articles/clock_and_time.html\\n\\n# The seconds component, valid over all int32 values.\\nint32 sec\\n\\n# The nanoseconds component, valid in the range [0, 1e9), to be added to the seconds component.\\n# e.g.\\n# The time -1.7 seconds is represented as {sec: -2, nanosec: 3e8}\\n# The time 1.7 seconds is represented as {sec: 1, nanosec: 7e8}\\nuint32 nanosec\\n', encoding='ros2msg', name='sensor_msgs/msg/CompressedImage'),\n",
       " 3: Schema(id=3, data=b'# This message holds a collection of N-dimensional points, which may\\n# contain additional information such as normals, intensity, etc. The\\n# point data is stored as a binary blob, its layout described by the\\n# contents of the \"fields\" array.\\n#\\n# The point cloud data may be organized 2d (image-like) or 1d (unordered).\\n# Point clouds organized as 2d images may be produced by camera depth sensors\\n# such as stereo or time-of-flight.\\n\\n# Time of sensor data acquisition, and the coordinate frame ID (for 3d points).\\nstd_msgs/Header header\\n\\n# 2D structure of the point cloud. If the cloud is unordered, height is\\n# 1 and width is the length of the point cloud.\\nuint32 height\\nuint32 width\\n\\n# Describes the channels and their layout in the binary data blob.\\nPointField[] fields\\n\\nbool    is_bigendian # Is this data bigendian?\\nuint32  point_step   # Length of a point in bytes\\nuint32  row_step     # Length of a row in bytes\\nuint8[] data         # Actual point data, size is (row_step*height)\\n\\nbool is_dense        # True if there are no invalid points\\n\\n================================================================================\\nMSG: sensor_msgs/PointField\\n# This message holds the description of one point entry in the\\n# PointCloud2 message format.\\nuint8 INT8    = 1\\nuint8 UINT8   = 2\\nuint8 INT16   = 3\\nuint8 UINT16  = 4\\nuint8 INT32   = 5\\nuint8 UINT32  = 6\\nuint8 FLOAT32 = 7\\nuint8 FLOAT64 = 8\\n\\n# Common PointField names are x, y, z, intensity, rgb, rgba\\nstring name      # Name of field\\nuint32 offset    # Offset from start of point struct\\nuint8  datatype  # Datatype enumeration, see above\\nuint32 count     # How many elements in the field\\n\\n================================================================================\\nMSG: std_msgs/Header\\n# Standard metadata for higher-level stamped data types.\\n# This is generally used to communicate timestamped data\\n# in a particular coordinate frame.\\n\\n# Two-integer timestamp that is expressed as seconds and nanoseconds.\\nbuiltin_interfaces/Time stamp\\n\\n# Transform frame with which this data is associated.\\nstring frame_id\\n\\n================================================================================\\nMSG: builtin_interfaces/Time\\n# This message communicates ROS Time defined here:\\n# https://design.ros2.org/articles/clock_and_time.html\\n\\n# The seconds component, valid over all int32 values.\\nint32 sec\\n\\n# The nanoseconds component, valid in the range [0, 1e9), to be added to the seconds component.\\n# e.g.\\n# The time -1.7 seconds is represented as {sec: -2, nanosec: 3e8}\\n# The time 1.7 seconds is represented as {sec: 1, nanosec: 7e8}\\nuint32 nanosec\\n', encoding='ros2msg', name='sensor_msgs/msg/PointCloud2')}"
      ]
     },
     "execution_count": 15,
     "metadata": {},
     "output_type": "execute_result"
    }
   ],
   "source": [
    "reader.get_summary().schemas"
   ]
  },
  {
   "cell_type": "code",
   "execution_count": null,
   "id": "60331221",
   "metadata": {},
   "outputs": [
    {
     "name": "stdout",
     "output_type": "stream",
     "text": [
      "/center_front/camera_info\n",
      "/center_front/image_rect/compressed\n",
      "/center_front/image_rect/compressedDepth\n",
      "/center_rear/camera_info\n",
      "/center_rear/image_rect/compressed\n",
      "/center_rear/image_rect/compressedDepth\n",
      "/driver_front/camera_info\n",
      "/driver_front/image_rect/compressed\n",
      "/driver_front/image_rect/compressedDepth\n",
      "/driver_rear/camera_info\n",
      "/driver_rear/image_rect/compressed\n",
      "/driver_rear/image_rect/compressedDepth\n",
      "/passenger_front/camera_info\n",
      "/passenger_front/image_rect/compressed\n",
      "/passenger_front/image_rect/compressedDepth\n",
      "/passenger_rear/camera_info\n",
      "/passenger_rear/image_rect/compressed\n",
      "/passenger_rear/image_rect/compressedDepth\n",
      "/sensing/lidar/front/pointcloud_raw_ex\n",
      "/sensing/lidar/rear/pointcloud_raw_ex\n"
     ]
    }
   ],
   "source": [
    "topics = [reader.get_summary().channels[i].topic for i in range(1, 21)]\n",
    "for i in sorted(topics):\n",
    "    print(i)"
   ]
  },
  {
   "cell_type": "code",
   "execution_count": null,
   "id": "46b09354",
   "metadata": {},
   "outputs": [
    {
     "name": "stdout",
     "output_type": "stream",
     "text": [
      "sensor_msgs.msg.CameraInfo(header=std_msgs.msg.Header(stamp=builtin_interfaces.msg.Time(sec=1758040178, nanosec=804728760), frame_id='center_front_cam/camera_link'), height=1080, width=1920, distortion_model='plumb_bob', d=[-0.3508414030075073, 0.10376661270856857, -0.0005301302298903465, 0.00696601951494813, 0.0], k=array([1.54580408e+03, 0.00000000e+00, 9.50406921e+02, 0.00000000e+00,\n",
      "       1.55801074e+03, 4.36352997e+02, 0.00000000e+00, 0.00000000e+00,\n",
      "       1.00000000e+00]), r=array([1., 0., 0., 0., 1., 0., 0., 0., 1.]), p=array([1.29559326e+03, 0.00000000e+00, 9.70977295e+02, 0.00000000e+00,\n",
      "       0.00000000e+00, 1.47800549e+03, 4.25816864e+02, 0.00000000e+00,\n",
      "       0.00000000e+00, 0.00000000e+00, 1.00000000e+00, 0.00000000e+00]), binning_x=0, binning_y=0, roi=sensor_msgs.msg.RegionOfInterest(x_offset=0, y_offset=0, height=0, width=0, do_rectify=False))\n"
     ]
    }
   ],
   "source": [
    "for schema, ch, msg in reader.iter_messages(topics=\"/center_front/camera_info\"):\n",
    "    msg : CameraInfo = deserialize_message(msg.data, CameraInfo)\n",
    "    print(msg)\n",
    "    break"
   ]
  },
  {
   "cell_type": "code",
   "execution_count": 22,
   "id": "2db42cfc",
   "metadata": {},
   "outputs": [
    {
     "data": {
      "text/plain": [
       "Statistics(attachment_count=0, channel_count=13, channel_message_counts={19: 183, 10: 183, 3: 184, 11: 183, 20: 184, 7: 184, 18: 184, 14: 184, 1: 184, 9: 199, 12: 185, 15: 184, 2: 184}, chunk_count=0, message_count=2405, message_end_time=1758040198571180536, message_start_time=1758040178687887576, metadata_count=1, schema_count=3)"
      ]
     },
     "execution_count": 22,
     "metadata": {},
     "output_type": "execute_result"
    }
   ],
   "source": [
    "reader.get_summary().statistics"
   ]
  },
  {
   "cell_type": "code",
   "execution_count": null,
   "id": "9c7bb306",
   "metadata": {},
   "outputs": [],
   "source": [
    "d = {}\n",
    "\n",
    "for schema, ch, msg in reader.iter_messages(start_time=1758040178687887576, end_time=1758040198571180536):\n",
    "    print(ch.topic)\n",
    "    if ch.topic.endswith(\"compressed\"):\n",
    "        t = ch.topic.split(\"/\")[-1]\n",
    "        print(t)\n",
    "        if t not in d:\n",
    "            d[t] = 0\n",
    "\n",
    "        msg : CompressedImage = deserialize_message(msg.data, CompressedImage)\n",
    "        img = Image.open(io.BytesIO(msg.data))\n",
    "        img.save(f\"{t}-{d[t]}.jpeg\")\n",
    "        d[t] += 1\n",
    "        print(d)"
   ]
  },
  {
   "cell_type": "code",
   "execution_count": 38,
   "id": "0190fa9c",
   "metadata": {},
   "outputs": [
    {
     "name": "stdout",
     "output_type": "stream",
     "text": [
      "\n",
      "Topic: /driver_front/image_rect/compressed\n",
      "  second    0 (t≈1758040178.688s): 9 msg\n",
      "  second    1 (t≈1758040179.688s): 9 msg\n",
      "  second    2 (t≈1758040180.688s): 9 msg\n",
      "  second    3 (t≈1758040181.688s): 9 msg\n",
      "  second    4 (t≈1758040182.688s): 9 msg\n",
      "  second    5 (t≈1758040183.688s): 9 msg\n",
      "  second    6 (t≈1758040184.688s): 10 msg\n",
      "  second    7 (t≈1758040185.688s): 9 msg\n",
      "  second    8 (t≈1758040186.688s): 9 msg\n",
      "  second    9 (t≈1758040187.688s): 10 msg\n",
      "  second   10 (t≈1758040188.688s): 9 msg\n",
      "  second   11 (t≈1758040189.688s): 9 msg\n",
      "  second   12 (t≈1758040190.688s): 9 msg\n",
      "  second   13 (t≈1758040191.688s): 10 msg\n",
      "  second   14 (t≈1758040192.688s): 8 msg\n",
      "  second   15 (t≈1758040193.688s): 11 msg\n",
      "  second   16 (t≈1758040194.688s): 10 msg\n",
      "  second   17 (t≈1758040195.688s): 9 msg\n",
      "  second   18 (t≈1758040196.688s): 10 msg\n",
      "  second   19 (t≈1758040197.688s): 7 msg\n",
      "\n",
      "Topic: /center_front/image_rect/compressed\n",
      "  second    0 (t≈1758040178.688s): 9 msg\n",
      "  second    1 (t≈1758040179.688s): 8 msg\n",
      "  second    2 (t≈1758040180.688s): 10 msg\n",
      "  second    3 (t≈1758040181.688s): 9 msg\n",
      "  second    4 (t≈1758040182.688s): 9 msg\n",
      "  second    5 (t≈1758040183.688s): 9 msg\n",
      "  second    6 (t≈1758040184.688s): 10 msg\n",
      "  second    7 (t≈1758040185.688s): 9 msg\n",
      "  second    8 (t≈1758040186.688s): 9 msg\n",
      "  second    9 (t≈1758040187.688s): 10 msg\n",
      "  second   10 (t≈1758040188.688s): 9 msg\n",
      "  second   11 (t≈1758040189.688s): 9 msg\n",
      "  second   12 (t≈1758040190.688s): 9 msg\n",
      "  second   13 (t≈1758040191.688s): 10 msg\n",
      "  second   14 (t≈1758040192.688s): 8 msg\n",
      "  second   15 (t≈1758040193.688s): 11 msg\n",
      "  second   16 (t≈1758040194.688s): 10 msg\n",
      "  second   17 (t≈1758040195.688s): 9 msg\n",
      "  second   18 (t≈1758040196.688s): 9 msg\n",
      "  second   19 (t≈1758040197.688s): 8 msg\n",
      "\n",
      "Topic: /passenger_front/image_rect/compressed\n",
      "  second    0 (t≈1758040178.688s): 8 msg\n",
      "  second    1 (t≈1758040179.688s): 9 msg\n",
      "  second    2 (t≈1758040180.688s): 9 msg\n",
      "  second    3 (t≈1758040181.688s): 9 msg\n",
      "  second    4 (t≈1758040182.688s): 10 msg\n",
      "  second    5 (t≈1758040183.688s): 9 msg\n",
      "  second    6 (t≈1758040184.688s): 9 msg\n",
      "  second    7 (t≈1758040185.688s): 9 msg\n",
      "  second    8 (t≈1758040186.688s): 10 msg\n",
      "  second    9 (t≈1758040187.688s): 9 msg\n",
      "  second   10 (t≈1758040188.688s): 9 msg\n",
      "  second   11 (t≈1758040189.688s): 9 msg\n",
      "  second   12 (t≈1758040190.688s): 10 msg\n",
      "  second   13 (t≈1758040191.688s): 9 msg\n",
      "  second   14 (t≈1758040192.688s): 9 msg\n",
      "  second   15 (t≈1758040193.688s): 10 msg\n",
      "  second   16 (t≈1758040194.688s): 10 msg\n",
      "  second   17 (t≈1758040195.688s): 9 msg\n",
      "  second   18 (t≈1758040196.688s): 10 msg\n",
      "  second   19 (t≈1758040197.688s): 7 msg\n",
      "\n",
      "Topic: /driver_rear/image_rect/compressed\n",
      "  second    0 (t≈1758040178.688s): 9 msg\n",
      "  second    1 (t≈1758040179.688s): 8 msg\n",
      "  second    2 (t≈1758040180.688s): 10 msg\n",
      "  second    3 (t≈1758040181.688s): 8 msg\n",
      "  second    4 (t≈1758040182.688s): 10 msg\n",
      "  second    5 (t≈1758040183.688s): 9 msg\n",
      "  second    6 (t≈1758040184.688s): 9 msg\n",
      "  second    7 (t≈1758040185.688s): 10 msg\n",
      "  second    8 (t≈1758040186.688s): 9 msg\n",
      "  second    9 (t≈1758040187.688s): 9 msg\n",
      "  second   10 (t≈1758040188.688s): 9 msg\n",
      "  second   11 (t≈1758040189.688s): 9 msg\n",
      "  second   12 (t≈1758040190.688s): 10 msg\n",
      "  second   13 (t≈1758040191.688s): 9 msg\n",
      "  second   14 (t≈1758040192.688s): 9 msg\n",
      "  second   15 (t≈1758040193.688s): 10 msg\n",
      "  second   16 (t≈1758040194.688s): 10 msg\n",
      "  second   17 (t≈1758040195.688s): 9 msg\n",
      "  second   18 (t≈1758040196.688s): 10 msg\n",
      "  second   19 (t≈1758040197.688s): 8 msg\n",
      "\n",
      "Topic: /passenger_rear/image_rect/compressed\n",
      "  second    0 (t≈1758040178.688s): 8 msg\n",
      "  second    1 (t≈1758040179.688s): 9 msg\n",
      "  second    2 (t≈1758040180.688s): 9 msg\n",
      "  second    3 (t≈1758040181.688s): 9 msg\n",
      "  second    4 (t≈1758040182.688s): 9 msg\n",
      "  second    5 (t≈1758040183.688s): 10 msg\n",
      "  second    6 (t≈1758040184.688s): 9 msg\n",
      "  second    7 (t≈1758040185.688s): 10 msg\n",
      "  second    8 (t≈1758040186.688s): 9 msg\n",
      "  second    9 (t≈1758040187.688s): 9 msg\n",
      "  second   10 (t≈1758040188.688s): 9 msg\n",
      "  second   11 (t≈1758040189.688s): 9 msg\n",
      "  second   12 (t≈1758040190.688s): 10 msg\n",
      "  second   13 (t≈1758040191.688s): 9 msg\n",
      "  second   14 (t≈1758040192.688s): 9 msg\n",
      "  second   15 (t≈1758040193.688s): 10 msg\n",
      "  second   16 (t≈1758040194.688s): 10 msg\n",
      "  second   17 (t≈1758040195.688s): 9 msg\n",
      "  second   18 (t≈1758040196.688s): 9 msg\n",
      "  second   19 (t≈1758040197.688s): 8 msg\n",
      "\n",
      "Topic: /center_rear/image_rect/compressed\n",
      "  second    0 (t≈1758040178.688s): 8 msg\n",
      "  second    1 (t≈1758040179.688s): 8 msg\n",
      "  second    2 (t≈1758040180.688s): 10 msg\n",
      "  second    3 (t≈1758040181.688s): 9 msg\n",
      "  second    4 (t≈1758040182.688s): 9 msg\n",
      "  second    5 (t≈1758040183.688s): 9 msg\n",
      "  second    6 (t≈1758040184.688s): 10 msg\n",
      "  second    7 (t≈1758040185.688s): 9 msg\n",
      "  second    8 (t≈1758040186.688s): 9 msg\n",
      "  second    9 (t≈1758040187.688s): 9 msg\n",
      "  second   10 (t≈1758040188.688s): 9 msg\n",
      "  second   11 (t≈1758040189.688s): 9 msg\n",
      "  second   12 (t≈1758040190.688s): 10 msg\n",
      "  second   13 (t≈1758040191.688s): 10 msg\n",
      "  second   14 (t≈1758040192.688s): 8 msg\n",
      "  second   15 (t≈1758040193.688s): 10 msg\n",
      "  second   16 (t≈1758040194.688s): 11 msg\n",
      "  second   17 (t≈1758040195.688s): 9 msg\n",
      "  second   18 (t≈1758040196.688s): 9 msg\n",
      "  second   19 (t≈1758040197.688s): 8 msg\n"
     ]
    }
   ],
   "source": [
    "from collections import defaultdict\n",
    "import math\n",
    "\n",
    "start_time = 1758040178687887576\n",
    "end_time   = 1758040198571180536\n",
    "bin_size_ns = 1_000_000_000  # 1 second bins\n",
    "\n",
    "# topic -> {bin_index -> count}\n",
    "bins = defaultdict(lambda: defaultdict(int))\n",
    "\n",
    "for schema, ch, msg in reader.iter_messages(start_time=start_time, end_time=end_time):\n",
    "    if ch.topic.endswith(\"compressed\"):\n",
    "        # find which second this message belongs to\n",
    "        sec = (msg.log_time - start_time) // bin_size_ns\n",
    "        bins[ch.topic][sec] += 1\n",
    "\n",
    "# Print per-second counts for each topic\n",
    "for topic, sec_counts in bins.items():\n",
    "    print(f\"\\nTopic: {topic}\")\n",
    "    for sec in sorted(sec_counts):\n",
    "        t_abs = start_time/1e9 + sec   # convert to absolute seconds if you want\n",
    "        count = sec_counts[sec]\n",
    "        print(f\"  second {sec:>4} (t≈{t_abs:.3f}s): {count} msg\")"
   ]
  },
  {
   "cell_type": "code",
   "execution_count": 39,
   "id": "6e57d128",
   "metadata": {},
   "outputs": [
    {
     "name": "stdout",
     "output_type": "stream",
     "text": [
      "Per-second totals for topics *.compressed (start=1758040178687887576, end=1758040198571180536)\n",
      "\n",
      "second    0 (t≈1758040178.688s):     51 msgs,   28490752 bytes (27.2 MB)\n",
      "second    1 (t≈1758040179.688s):     51 msgs,   28386480 bytes (27.1 MB)\n",
      "second    2 (t≈1758040180.688s):     57 msgs,   31735948 bytes (30.3 MB)\n",
      "second    3 (t≈1758040181.688s):     53 msgs,   29521960 bytes (28.2 MB)\n",
      "second    4 (t≈1758040182.688s):     56 msgs,   31091688 bytes (29.7 MB)\n",
      "second    5 (t≈1758040183.688s):     55 msgs,   30824204 bytes (29.4 MB)\n",
      "second    6 (t≈1758040184.688s):     57 msgs,   31894824 bytes (30.4 MB)\n",
      "second    7 (t≈1758040185.688s):     56 msgs,   31364268 bytes (29.9 MB)\n",
      "second    8 (t≈1758040186.688s):     55 msgs,   30551100 bytes (29.1 MB)\n",
      "second    9 (t≈1758040187.688s):     56 msgs,   31268564 bytes (29.8 MB)\n",
      "second   10 (t≈1758040188.688s):     54 msgs,   30110700 bytes (28.7 MB)\n",
      "second   11 (t≈1758040189.688s):     54 msgs,   30120876 bytes (28.7 MB)\n",
      "second   12 (t≈1758040190.688s):     58 msgs,   32105800 bytes (30.6 MB)\n",
      "second   13 (t≈1758040191.688s):     57 msgs,   31883876 bytes (30.4 MB)\n",
      "second   14 (t≈1758040192.688s):     51 msgs,   30471696 bytes (29.1 MB)\n",
      "second   15 (t≈1758040193.688s):     62 msgs,   37175912 bytes (35.5 MB)\n",
      "second   16 (t≈1758040194.688s):     61 msgs,   36606928 bytes (34.9 MB)\n",
      "second   17 (t≈1758040195.688s):     54 msgs,   32381224 bytes (30.9 MB)\n",
      "second   18 (t≈1758040196.688s):     57 msgs,   34287084 bytes (32.7 MB)\n",
      "second   19 (t≈1758040197.688s):     46 msgs,   27610044 bytes (26.3 MB)\n"
     ]
    }
   ],
   "source": [
    "from collections import defaultdict\n",
    "\n",
    "# Assuming you already have `reader` created\n",
    "start_time = 1758040178687887576\n",
    "end_time   = 1758040198571180536\n",
    "BIN_NS = 1_000_000_000  # 1-second bins\n",
    "\n",
    "# sec_index -> {\"count\": int, \"bytes\": int}\n",
    "timeline = defaultdict(lambda: {\"count\": 0, \"bytes\": 0})\n",
    "\n",
    "def human_bytes(n: int) -> str:\n",
    "    for unit in (\"B\",\"KB\",\"MB\",\"GB\",\"TB\"):\n",
    "        if n < 1024 or unit == \"TB\":\n",
    "            return f\"{n:.1f} {unit}\"\n",
    "        n /= 1024\n",
    "\n",
    "for schema, ch, msg in reader.iter_messages(start_time=start_time, end_time=end_time):\n",
    "    if not ch.topic.endswith(\"compressed\"):\n",
    "        continue\n",
    "    sec = (msg.log_time - start_time) // BIN_NS\n",
    "    # MCAP messages expose payload bytes as msg.data\n",
    "    size = len(msg.data) if hasattr(msg, \"data\") and msg.data is not None else 0\n",
    "    bucket = timeline[sec]\n",
    "    bucket[\"count\"] += 1\n",
    "    bucket[\"bytes\"] += size\n",
    "\n",
    "# Print results: ith second from start -> total messages and total size\n",
    "print(f\"Per-second totals for topics *.compressed (start={start_time}, end={end_time})\\n\")\n",
    "for sec in sorted(timeline):\n",
    "    t_abs = start_time/1e9 + sec  # absolute seconds since epoch (approx)\n",
    "    count = timeline[sec][\"count\"]\n",
    "    total_bytes = timeline[sec][\"bytes\"]\n",
    "    print(f\"second {sec:>4} (t≈{t_abs:.3f}s): {count:>6} msgs, {total_bytes:>10} bytes ({human_bytes(total_bytes)})\")\n"
   ]
  },
  {
   "cell_type": "code",
   "execution_count": null,
   "id": "5de64fae",
   "metadata": {},
   "outputs": [
    {
     "data": {
      "text/plain": [
       "{1: Channel(id=1, topic='/passenger_front/camera_info', message_encoding='cdr', metadata={'offered_qos_profiles': '- history: 1\\n  depth: 10\\n  reliability: 1\\n  durability: 2\\n  deadline:\\n    sec: 9223372036\\n    nsec: 854775807\\n  lifespan:\\n    sec: 9223372036\\n    nsec: 854775807\\n  liveliness: 1\\n  liveliness_lease_duration:\\n    sec: 9223372036\\n    nsec: 854775807\\n  avoid_ros_namespace_conventions: false'}, schema_id=1),\n",
       " 2: Channel(id=2, topic='/driver_front/image_rect/compressed', message_encoding='cdr', metadata={'offered_qos_profiles': '- history: 1\\n  depth: 10\\n  reliability: 1\\n  durability: 2\\n  deadline:\\n    sec: 9223372036\\n    nsec: 854775807\\n  lifespan:\\n    sec: 9223372036\\n    nsec: 854775807\\n  liveliness: 1\\n  liveliness_lease_duration:\\n    sec: 9223372036\\n    nsec: 854775807\\n  avoid_ros_namespace_conventions: false'}, schema_id=2),\n",
       " 3: Channel(id=3, topic='/driver_rear/image_rect/compressed', message_encoding='cdr', metadata={'offered_qos_profiles': '- history: 1\\n  depth: 10\\n  reliability: 1\\n  durability: 2\\n  deadline:\\n    sec: 9223372036\\n    nsec: 854775807\\n  lifespan:\\n    sec: 9223372036\\n    nsec: 854775807\\n  liveliness: 1\\n  liveliness_lease_duration:\\n    sec: 9223372036\\n    nsec: 854775807\\n  avoid_ros_namespace_conventions: false'}, schema_id=2),\n",
       " 4: Channel(id=4, topic='/center_front/image_rect/compressedDepth', message_encoding='cdr', metadata={'offered_qos_profiles': '- history: 1\\n  depth: 10\\n  reliability: 1\\n  durability: 2\\n  deadline:\\n    sec: 9223372036\\n    nsec: 854775807\\n  lifespan:\\n    sec: 9223372036\\n    nsec: 854775807\\n  liveliness: 1\\n  liveliness_lease_duration:\\n    sec: 9223372036\\n    nsec: 854775807\\n  avoid_ros_namespace_conventions: false'}, schema_id=2),\n",
       " 5: Channel(id=5, topic='/passenger_front/image_rect/compressedDepth', message_encoding='cdr', metadata={'offered_qos_profiles': '- history: 1\\n  depth: 10\\n  reliability: 1\\n  durability: 2\\n  deadline:\\n    sec: 9223372036\\n    nsec: 854775807\\n  lifespan:\\n    sec: 9223372036\\n    nsec: 854775807\\n  liveliness: 1\\n  liveliness_lease_duration:\\n    sec: 9223372036\\n    nsec: 854775807\\n  avoid_ros_namespace_conventions: false'}, schema_id=2),\n",
       " 6: Channel(id=6, topic='/driver_front/image_rect/compressedDepth', message_encoding='cdr', metadata={'offered_qos_profiles': '- history: 1\\n  depth: 10\\n  reliability: 1\\n  durability: 2\\n  deadline:\\n    sec: 9223372036\\n    nsec: 854775807\\n  lifespan:\\n    sec: 9223372036\\n    nsec: 854775807\\n  liveliness: 1\\n  liveliness_lease_duration:\\n    sec: 9223372036\\n    nsec: 854775807\\n  avoid_ros_namespace_conventions: false'}, schema_id=2),\n",
       " 7: Channel(id=7, topic='/driver_front/camera_info', message_encoding='cdr', metadata={'offered_qos_profiles': '- history: 1\\n  depth: 10\\n  reliability: 1\\n  durability: 2\\n  deadline:\\n    sec: 9223372036\\n    nsec: 854775807\\n  lifespan:\\n    sec: 9223372036\\n    nsec: 854775807\\n  liveliness: 1\\n  liveliness_lease_duration:\\n    sec: 9223372036\\n    nsec: 854775807\\n  avoid_ros_namespace_conventions: false'}, schema_id=1),\n",
       " 8: Channel(id=8, topic='/sensing/lidar/rear/pointcloud_raw_ex', message_encoding='cdr', metadata={'offered_qos_profiles': '- history: 1\\n  depth: 1\\n  reliability: 2\\n  durability: 2\\n  deadline:\\n    sec: 9223372036\\n    nsec: 854775807\\n  lifespan:\\n    sec: 9223372036\\n    nsec: 854775807\\n  liveliness: 1\\n  liveliness_lease_duration:\\n    sec: 9223372036\\n    nsec: 854775807\\n  avoid_ros_namespace_conventions: false'}, schema_id=3),\n",
       " 9: Channel(id=9, topic='/sensing/lidar/front/pointcloud_raw_ex', message_encoding='cdr', metadata={'offered_qos_profiles': '- history: 1\\n  depth: 1\\n  reliability: 2\\n  durability: 2\\n  deadline:\\n    sec: 9223372036\\n    nsec: 854775807\\n  lifespan:\\n    sec: 9223372036\\n    nsec: 854775807\\n  liveliness: 1\\n  liveliness_lease_duration:\\n    sec: 9223372036\\n    nsec: 854775807\\n  avoid_ros_namespace_conventions: false'}, schema_id=3),\n",
       " 10: Channel(id=10, topic='/passenger_rear/image_rect/compressed', message_encoding='cdr', metadata={'offered_qos_profiles': '- history: 1\\n  depth: 10\\n  reliability: 1\\n  durability: 2\\n  deadline:\\n    sec: 9223372036\\n    nsec: 854775807\\n  lifespan:\\n    sec: 9223372036\\n    nsec: 854775807\\n  liveliness: 1\\n  liveliness_lease_duration:\\n    sec: 9223372036\\n    nsec: 854775807\\n  avoid_ros_namespace_conventions: false'}, schema_id=2),\n",
       " 11: Channel(id=11, topic='/passenger_front/image_rect/compressed', message_encoding='cdr', metadata={'offered_qos_profiles': '- history: 1\\n  depth: 10\\n  reliability: 1\\n  durability: 2\\n  deadline:\\n    sec: 9223372036\\n    nsec: 854775807\\n  lifespan:\\n    sec: 9223372036\\n    nsec: 854775807\\n  liveliness: 1\\n  liveliness_lease_duration:\\n    sec: 9223372036\\n    nsec: 854775807\\n  avoid_ros_namespace_conventions: false'}, schema_id=2),\n",
       " 12: Channel(id=12, topic='/driver_rear/camera_info', message_encoding='cdr', metadata={'offered_qos_profiles': '- history: 1\\n  depth: 10\\n  reliability: 1\\n  durability: 2\\n  deadline:\\n    sec: 9223372036\\n    nsec: 854775807\\n  lifespan:\\n    sec: 9223372036\\n    nsec: 854775807\\n  liveliness: 1\\n  liveliness_lease_duration:\\n    sec: 9223372036\\n    nsec: 854775807\\n  avoid_ros_namespace_conventions: false'}, schema_id=1),\n",
       " 13: Channel(id=13, topic='/center_rear/image_rect/compressedDepth', message_encoding='cdr', metadata={'offered_qos_profiles': '- history: 1\\n  depth: 10\\n  reliability: 1\\n  durability: 2\\n  deadline:\\n    sec: 9223372036\\n    nsec: 854775807\\n  lifespan:\\n    sec: 9223372036\\n    nsec: 854775807\\n  liveliness: 1\\n  liveliness_lease_duration:\\n    sec: 9223372036\\n    nsec: 854775807\\n  avoid_ros_namespace_conventions: false'}, schema_id=2),\n",
       " 14: Channel(id=14, topic='/center_front/camera_info', message_encoding='cdr', metadata={'offered_qos_profiles': '- history: 1\\n  depth: 10\\n  reliability: 1\\n  durability: 2\\n  deadline:\\n    sec: 9223372036\\n    nsec: 854775807\\n  lifespan:\\n    sec: 9223372036\\n    nsec: 854775807\\n  liveliness: 1\\n  liveliness_lease_duration:\\n    sec: 9223372036\\n    nsec: 854775807\\n  avoid_ros_namespace_conventions: false'}, schema_id=1),\n",
       " 15: Channel(id=15, topic='/center_front/image_rect/compressed', message_encoding='cdr', metadata={'offered_qos_profiles': '- history: 1\\n  depth: 10\\n  reliability: 1\\n  durability: 2\\n  deadline:\\n    sec: 9223372036\\n    nsec: 854775807\\n  lifespan:\\n    sec: 9223372036\\n    nsec: 854775807\\n  liveliness: 1\\n  liveliness_lease_duration:\\n    sec: 9223372036\\n    nsec: 854775807\\n  avoid_ros_namespace_conventions: false'}, schema_id=2),\n",
       " 16: Channel(id=16, topic='/driver_rear/image_rect/compressedDepth', message_encoding='cdr', metadata={'offered_qos_profiles': '- history: 1\\n  depth: 10\\n  reliability: 1\\n  durability: 2\\n  deadline:\\n    sec: 9223372036\\n    nsec: 854775807\\n  lifespan:\\n    sec: 9223372036\\n    nsec: 854775807\\n  liveliness: 1\\n  liveliness_lease_duration:\\n    sec: 9223372036\\n    nsec: 854775807\\n  avoid_ros_namespace_conventions: false'}, schema_id=2),\n",
       " 17: Channel(id=17, topic='/passenger_rear/image_rect/compressedDepth', message_encoding='cdr', metadata={'offered_qos_profiles': '- history: 1\\n  depth: 10\\n  reliability: 1\\n  durability: 2\\n  deadline:\\n    sec: 9223372036\\n    nsec: 854775807\\n  lifespan:\\n    sec: 9223372036\\n    nsec: 854775807\\n  liveliness: 1\\n  liveliness_lease_duration:\\n    sec: 9223372036\\n    nsec: 854775807\\n  avoid_ros_namespace_conventions: false'}, schema_id=2),\n",
       " 18: Channel(id=18, topic='/passenger_rear/camera_info', message_encoding='cdr', metadata={'offered_qos_profiles': '- history: 1\\n  depth: 10\\n  reliability: 1\\n  durability: 2\\n  deadline:\\n    sec: 9223372036\\n    nsec: 854775807\\n  lifespan:\\n    sec: 9223372036\\n    nsec: 854775807\\n  liveliness: 1\\n  liveliness_lease_duration:\\n    sec: 9223372036\\n    nsec: 854775807\\n  avoid_ros_namespace_conventions: false'}, schema_id=1),\n",
       " 19: Channel(id=19, topic='/center_rear/image_rect/compressed', message_encoding='cdr', metadata={'offered_qos_profiles': '- history: 1\\n  depth: 10\\n  reliability: 1\\n  durability: 2\\n  deadline:\\n    sec: 9223372036\\n    nsec: 854775807\\n  lifespan:\\n    sec: 9223372036\\n    nsec: 854775807\\n  liveliness: 1\\n  liveliness_lease_duration:\\n    sec: 9223372036\\n    nsec: 854775807\\n  avoid_ros_namespace_conventions: false'}, schema_id=2),\n",
       " 20: Channel(id=20, topic='/center_rear/camera_info', message_encoding='cdr', metadata={'offered_qos_profiles': '- history: 1\\n  depth: 10\\n  reliability: 1\\n  durability: 2\\n  deadline:\\n    sec: 9223372036\\n    nsec: 854775807\\n  lifespan:\\n    sec: 9223372036\\n    nsec: 854775807\\n  liveliness: 1\\n  liveliness_lease_duration:\\n    sec: 9223372036\\n    nsec: 854775807\\n  avoid_ros_namespace_conventions: false'}, schema_id=1)}"
      ]
     },
     "execution_count": 7,
     "metadata": {},
     "output_type": "execute_result"
    }
   ],
   "source": [
    "reader.get_summary().statistics.channel_count"
   ]
  },
  {
   "cell_type": "code",
   "execution_count": 5,
   "id": "56bc19ce",
   "metadata": {},
   "outputs": [
    {
     "name": "stdout",
     "output_type": "stream",
     "text": [
      "Per-second totals for topics *.compressed (start=1758040178687887576, end=1758040198571180536)\n",
      "\n",
      "second    0 (t≈1758040178.688s):     51 msgs,   50643905 bytes (48.3 MB)\n",
      "second    1 (t≈1758040179.688s):     51 msgs,   50484552 bytes (48.1 MB)\n",
      "second    2 (t≈1758040180.688s):     57 msgs,   56444186 bytes (53.8 MB)\n",
      "second    3 (t≈1758040181.688s):     53 msgs,   52520215 bytes (50.1 MB)\n",
      "second    4 (t≈1758040182.688s):     56 msgs,   55327125 bytes (52.8 MB)\n",
      "second    5 (t≈1758040183.688s):     55 msgs,   54782921 bytes (52.2 MB)\n",
      "second    6 (t≈1758040184.688s):     57 msgs,   56699991 bytes (54.1 MB)\n",
      "second    7 (t≈1758040185.688s):     56 msgs,   55734189 bytes (53.2 MB)\n",
      "second    8 (t≈1758040186.688s):     55 msgs,   54376643 bytes (51.9 MB)\n",
      "second    9 (t≈1758040187.688s):     56 msgs,   55597761 bytes (53.0 MB)\n",
      "second   10 (t≈1758040188.688s):     54 msgs,   53561553 bytes (51.1 MB)\n",
      "second   11 (t≈1758040189.688s):     54 msgs,   53568048 bytes (51.1 MB)\n",
      "second   12 (t≈1758040190.688s):     58 msgs,   57176778 bytes (54.5 MB)\n",
      "second   13 (t≈1758040191.688s):     57 msgs,   56634533 bytes (54.0 MB)\n",
      "second   14 (t≈1758040192.688s):     51 msgs,   53648628 bytes (51.2 MB)\n",
      "second   15 (t≈1758040193.688s):     62 msgs,   65418380 bytes (62.4 MB)\n",
      "second   16 (t≈1758040194.688s):     61 msgs,   64451429 bytes (61.5 MB)\n",
      "second   17 (t≈1758040195.688s):     54 msgs,   57013683 bytes (54.4 MB)\n",
      "second   18 (t≈1758040196.688s):     57 msgs,   60336672 bytes (57.5 MB)\n",
      "second   19 (t≈1758040197.688s):     46 msgs,   48633159 bytes (46.4 MB)\n"
     ]
    }
   ],
   "source": [
    "from collections import defaultdict\n",
    "import cv2\n",
    "\n",
    "# Assuming you already have `reader` created\n",
    "start_time = 1758040178687887576\n",
    "end_time   = 1758040198571180536\n",
    "BIN_NS = 1_000_000_000  # 1-second bins\n",
    "\n",
    "# sec_index -> {\"count\": int, \"bytes\": int}\n",
    "timeline = defaultdict(lambda: {\"count\": 0, \"bytes\": 0})\n",
    "\n",
    "def human_bytes(n: int) -> str:\n",
    "    for unit in (\"B\",\"KB\",\"MB\",\"GB\",\"TB\"):\n",
    "        if n < 1024 or unit == \"TB\":\n",
    "            return f\"{n:.1f} {unit}\"\n",
    "        n /= 1024\n",
    "\n",
    "for schema, ch, msg in reader.iter_messages(start_time=start_time, end_time=end_time):\n",
    "    if not ch.topic.endswith(\"compressed\"):\n",
    "        continue\n",
    "    sec = (msg.log_time - start_time) // BIN_NS\n",
    "    # MCAP messages expose payload bytes as msg.data\n",
    "    compressed_image : CompressedImage = deserialize_message(msg.data, CompressedImage)\n",
    "    arr = numpy.frombuffer(compressed_image.data, numpy.uint8)\n",
    "    bgr = cv2.imdecode(arr, cv2.IMREAD_COLOR)\n",
    "    ok, encoded = cv2.imencode(\".jpg\", bgr, [int(cv2.IMWRITE_JPEG_QUALITY), 100])\n",
    "\n",
    "    size = encoded.size\n",
    "    bucket = timeline[sec]\n",
    "    bucket[\"count\"] += 1\n",
    "    bucket[\"bytes\"] += size\n",
    "\n",
    "# Print results: ith second from start -> total messages and total size\n",
    "print(f\"Per-second totals for topics *.compressed (start={start_time}, end={end_time})\\n\")\n",
    "for sec in sorted(timeline):\n",
    "    t_abs = start_time/1e9 + sec  # absolute seconds since epoch (approx)\n",
    "    count = timeline[sec][\"count\"]\n",
    "    total_bytes = timeline[sec][\"bytes\"]\n",
    "    print(f\"second {sec:>4} (t≈{t_abs:.3f}s): {count:>6} msgs, {total_bytes:>10} bytes ({human_bytes(total_bytes)})\")\n"
   ]
  },
  {
   "cell_type": "code",
   "execution_count": null,
   "id": "a4259c12",
   "metadata": {},
   "outputs": [],
   "source": []
  }
 ],
 "metadata": {
  "kernelspec": {
   "display_name": "env",
   "language": "python",
   "name": "python3"
  },
  "language_info": {
   "codemirror_mode": {
    "name": "ipython",
    "version": 3
   },
   "file_extension": ".py",
   "mimetype": "text/x-python",
   "name": "python",
   "nbconvert_exporter": "python",
   "pygments_lexer": "ipython3",
   "version": "3.12.3"
  }
 },
 "nbformat": 4,
 "nbformat_minor": 5
}
